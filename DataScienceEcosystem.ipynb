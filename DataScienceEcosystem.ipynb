{
 "cells": [
  {
   "cell_type": "markdown",
   "id": "2b96fd3d",
   "metadata": {},
   "source": [
    "# Data Science Tools and Ecosystem"
   ]
  },
  {
   "cell_type": "markdown",
   "id": "16aa75bd",
   "metadata": {},
   "source": [
    "In this notebook, Data Science Tools and Ecosystem are summarized. "
   ]
  },
  {
   "cell_type": "markdown",
   "id": "c4ffe7f0",
   "metadata": {},
   "source": [
    "Objectives:\n",
    "- List popular languages used by Data Scientists\n",
    "- List commonly used libraries by Data Scientists\n",
    "- List Data Science development tools\n"
   ]
  },
  {
   "cell_type": "markdown",
   "id": "bec6050b",
   "metadata": {},
   "source": [
    "Some of the popular languages that Data Scientists use are: \n",
    "1. Python\n",
    "2. R \n",
    "3. Scala\n",
    "4. Java Script"
   ]
  },
  {
   "cell_type": "markdown",
   "id": "58cf97da",
   "metadata": {},
   "source": [
    "Some commonly used libraries by Data Scientists include:\n",
    "1. Apache Spark\n",
    "2. Pandas\n",
    "3. Matplot Lib\n",
    "4. PyTorch"
   ]
  },
  {
   "cell_type": "markdown",
   "id": "cf29bc74",
   "metadata": {},
   "source": [
    "| Data Science Tools |\n",
    "--------------------\n",
    "| Apache Hadoop |\n",
    "| NumPy |\n",
    "| TensorFlow |"
   ]
  },
  {
   "cell_type": "markdown",
   "id": "cfd67354",
   "metadata": {},
   "source": [
    "### Below are a few examples of evaluating arithmetic expressions in Python: "
   ]
  },
  {
   "cell_type": "code",
   "execution_count": 1,
   "id": "2bf508f6",
   "metadata": {
    "scrolled": true
   },
   "outputs": [
    {
     "data": {
      "text/plain": [
       "17"
      ]
     },
     "execution_count": 1,
     "metadata": {},
     "output_type": "execute_result"
    }
   ],
   "source": [
    "(3*4)+5"
   ]
  },
  {
   "cell_type": "code",
   "execution_count": 2,
   "id": "d72f44cd",
   "metadata": {},
   "outputs": [
    {
     "data": {
      "text/plain": [
       "3.3333333333333335"
      ]
     },
     "execution_count": 2,
     "metadata": {},
     "output_type": "execute_result"
    }
   ],
   "source": [
    "200/60"
   ]
  },
  {
   "cell_type": "code",
   "execution_count": null,
   "id": "051b3414",
   "metadata": {},
   "outputs": [],
   "source": [
    "9"
   ]
  },
  {
   "cell_type": "markdown",
   "id": "5b72e382",
   "metadata": {},
   "source": [
    "### Author\n",
    "\n",
    "Amaka Ume"
   ]
  }
 ],
 "metadata": {
  "kernelspec": {
   "display_name": "Python 3 (ipykernel)",
   "language": "python",
   "name": "python3"
  },
  "language_info": {
   "codemirror_mode": {
    "name": "ipython",
    "version": 3
   },
   "file_extension": ".py",
   "mimetype": "text/x-python",
   "name": "python",
   "nbconvert_exporter": "python",
   "pygments_lexer": "ipython3",
   "version": "3.8.2"
  }
 },
 "nbformat": 4,
 "nbformat_minor": 5
}
